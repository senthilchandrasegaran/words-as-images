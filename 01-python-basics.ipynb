{
 "cells": [
  {
   "cell_type": "markdown",
   "id": "c33b64ce",
   "metadata": {},
   "source": [
    "# Python Refresher\n",
    "\n",
    "Feel free to skip down to the part of the notebook that you think you need a refresher for. Topics covered are:\n",
    "\n",
    "    1. Using the Jupyter Notebook\n",
    "    2. Basic calculations\n",
    "    3. Variables and assignments\n",
    "    4. Datatypes (the kind you are likely to use in the workshop)\n",
    "    5. Conditional statements and loops"
   ]
  },
  {
   "cell_type": "markdown",
   "id": "69839b89",
   "metadata": {},
   "source": [
    "## 1. Using Jupyter Notebook\n",
    "\n",
    "The jupyter notebook is one of several kinds of 'notebook interfaces' developed with the idea that programs should follow the logic and thought process of the scientist/analyst/developer, and not the requirements demanded by the programming language. A notebook is made of a series of 'cells': each cell is computed and the results of the last computation is displayed below the cell. For instance:"
   ]
  },
  {
   "cell_type": "code",
   "execution_count": 1,
   "id": "15171191",
   "metadata": {},
   "outputs": [
    {
     "data": {
      "text/plain": [
       "8"
      ]
     },
     "execution_count": 1,
     "metadata": {},
     "output_type": "execute_result"
    }
   ],
   "source": [
    "3 + 5"
   ]
  },
  {
   "cell_type": "markdown",
   "id": "1d4a911d-4b43-406a-bade-e4224044bde3",
   "metadata": {},
   "source": [
    "Note the `[1]` to the left of the output. This indicates that what is displayed is the value returned by the expression on the last line of cell `[1]`."
   ]
  },
  {
   "cell_type": "markdown",
   "id": "0751b0f1",
   "metadata": {},
   "source": [
    "You can also use the `print()` command to display specific outputs."
   ]
  },
  {
   "cell_type": "code",
   "execution_count": 2,
   "id": "2b55d090",
   "metadata": {},
   "outputs": [
    {
     "name": "stdout",
     "output_type": "stream",
     "text": [
      "8\n"
     ]
    }
   ],
   "source": [
    "print(3 + 5)"
   ]
  },
  {
   "cell_type": "markdown",
   "id": "3fcdb13b",
   "metadata": {},
   "source": [
    "Note the absence of a `[2]` marker under the cell if you compare it to cell `[1]` above. This is because the command itself does not return a value to be displayed by the notebook cell. However, executing the command prints a value that is displayed below. This is a subtle difference, but something to keep in mind."
   ]
  },
  {
   "cell_type": "markdown",
   "id": "ede4a754",
   "metadata": {},
   "source": [
    "A cell can also be a space for you to write down your thoughts, explanations, decisions, and plans---any documentation that will help you return to this work at a later date and pick up where you left off, or disseminate this work to others. You can choose `code` (executable cell) or `markdown` (explanatory cell) on the toolbar at the top to choose what kind of cell you want to use.\n",
    "\n",
    "There are several other ways of using the cells but these are the basic and most commonly used options."
   ]
  },
  {
   "cell_type": "markdown",
   "id": "286e3787",
   "metadata": {},
   "source": [
    "## 2. Basic Calculations\n",
    "\n",
    "Python's syntax is fairly human-readable, so let's dive into it with examples.\n",
    "First, you have the basic arithmetic calculations: addition, subtraction, multiplication, division, exponentiation, modulo operations, etc. Everything else can either be built from this or can be achieved through pre-existing functions and libraries."
   ]
  },
  {
   "cell_type": "code",
   "execution_count": 3,
   "id": "55be9221",
   "metadata": {},
   "outputs": [
    {
     "data": {
      "text/plain": [
       "8"
      ]
     },
     "execution_count": 3,
     "metadata": {},
     "output_type": "execute_result"
    }
   ],
   "source": [
    "# Addition\n",
    "2 + 6"
   ]
  },
  {
   "cell_type": "code",
   "execution_count": 4,
   "id": "72436e4a",
   "metadata": {},
   "outputs": [
    {
     "data": {
      "text/plain": [
       "-4"
      ]
     },
     "execution_count": 4,
     "metadata": {},
     "output_type": "execute_result"
    }
   ],
   "source": [
    "# Subtraction\n",
    "2 - 6"
   ]
  },
  {
   "cell_type": "code",
   "execution_count": 5,
   "id": "f60bfc0b",
   "metadata": {},
   "outputs": [
    {
     "data": {
      "text/plain": [
       "12"
      ]
     },
     "execution_count": 5,
     "metadata": {},
     "output_type": "execute_result"
    }
   ],
   "source": [
    "# Multiplication\n",
    "2 * 6"
   ]
  },
  {
   "cell_type": "code",
   "execution_count": 6,
   "id": "ac028409",
   "metadata": {},
   "outputs": [
    {
     "data": {
      "text/plain": [
       "0.3333333333333333"
      ]
     },
     "execution_count": 6,
     "metadata": {},
     "output_type": "execute_result"
    }
   ],
   "source": [
    "# Division\n",
    "2 / 6"
   ]
  },
  {
   "cell_type": "code",
   "execution_count": 7,
   "id": "af3d63d8",
   "metadata": {},
   "outputs": [
    {
     "data": {
      "text/plain": [
       "8"
      ]
     },
     "execution_count": 7,
     "metadata": {},
     "output_type": "execute_result"
    }
   ],
   "source": [
    "# Exponentiation\n",
    "2**3"
   ]
  },
  {
   "cell_type": "code",
   "execution_count": 8,
   "id": "23acdd40",
   "metadata": {},
   "outputs": [
    {
     "data": {
      "text/plain": [
       "2"
      ]
     },
     "execution_count": 8,
     "metadata": {},
     "output_type": "execute_result"
    }
   ],
   "source": [
    "# Modulo operations (remainders)\n",
    "17%3"
   ]
  },
  {
   "cell_type": "markdown",
   "id": "0d7d6fd0",
   "metadata": {},
   "source": [
    "Parentheses can be used to control the flow of operations"
   ]
  },
  {
   "cell_type": "code",
   "execution_count": 9,
   "id": "364429ef",
   "metadata": {},
   "outputs": [
    {
     "data": {
      "text/plain": [
       "1"
      ]
     },
     "execution_count": 9,
     "metadata": {},
     "output_type": "execute_result"
    }
   ],
   "source": [
    "2 * 3 - 5"
   ]
  },
  {
   "cell_type": "code",
   "execution_count": 10,
   "id": "0159773e",
   "metadata": {},
   "outputs": [
    {
     "data": {
      "text/plain": [
       "-4"
      ]
     },
     "execution_count": 10,
     "metadata": {},
     "output_type": "execute_result"
    }
   ],
   "source": [
    "2 * (3 - 5)"
   ]
  },
  {
   "cell_type": "markdown",
   "id": "30643e1a",
   "metadata": {},
   "source": [
    "## 3. Variables and Assignments\n",
    "You can create variables to store values and use them in equations to compute these values."
   ]
  },
  {
   "cell_type": "code",
   "execution_count": 11,
   "id": "25cdc153",
   "metadata": {},
   "outputs": [
    {
     "data": {
      "text/plain": [
       "14"
      ]
     },
     "execution_count": 11,
     "metadata": {},
     "output_type": "execute_result"
    }
   ],
   "source": [
    "a = 2\n",
    "b = 5\n",
    "c = a + b\n",
    "a * c"
   ]
  },
  {
   "cell_type": "markdown",
   "id": "d4fa5780",
   "metadata": {},
   "source": [
    "You can also change the value of a variable and save the new value in the same variable."
   ]
  },
  {
   "cell_type": "code",
   "execution_count": 12,
   "id": "deebc217",
   "metadata": {},
   "outputs": [
    {
     "data": {
      "text/plain": [
       "6"
      ]
     },
     "execution_count": 12,
     "metadata": {},
     "output_type": "execute_result"
    }
   ],
   "source": [
    "x = 5\n",
    "x = x + 1\n",
    "x"
   ]
  },
  {
   "cell_type": "markdown",
   "id": "0a8b13c3",
   "metadata": {},
   "source": [
    "This kind of variable assignment is used so often that most programming languages have a shortcut for it."
   ]
  },
  {
   "cell_type": "code",
   "execution_count": 13,
   "id": "da22a11e",
   "metadata": {},
   "outputs": [
    {
     "data": {
      "text/plain": [
       "7"
      ]
     },
     "execution_count": 13,
     "metadata": {},
     "output_type": "execute_result"
    }
   ],
   "source": [
    "x += 1\n",
    "x"
   ]
  },
  {
   "cell_type": "markdown",
   "id": "85dc68ae",
   "metadata": {},
   "source": [
    "## 3. Datatypes\n",
    "The main datatypes you will need for this workshops are numbers, strings, lists, and objects. \n",
    "\n",
    "We've already seen numbers earlier."
   ]
  },
  {
   "cell_type": "code",
   "execution_count": 14,
   "id": "47dd1fdc",
   "metadata": {},
   "outputs": [],
   "source": [
    "x = 7"
   ]
  },
  {
   "cell_type": "markdown",
   "id": "2fdd6977",
   "metadata": {},
   "source": [
    "A `string` variable stores just that: a string of characters."
   ]
  },
  {
   "cell_type": "code",
   "execution_count": 15,
   "id": "4bbe9411",
   "metadata": {},
   "outputs": [
    {
     "name": "stdout",
     "output_type": "stream",
     "text": [
      "By the pricking of my thumbs\n",
      "something wicked this way comes.\n"
     ]
    }
   ],
   "source": [
    "y = \"By the pricking of my thumbs\"\n",
    "z = \"something wicked this way comes.\"\n",
    "print(y)\n",
    "print(z)"
   ]
  },
  {
   "cell_type": "markdown",
   "id": "20bf470f",
   "metadata": {},
   "source": [
    "You can add strings together. This is called concatenation."
   ]
  },
  {
   "cell_type": "code",
   "execution_count": 16,
   "id": "971637cd",
   "metadata": {},
   "outputs": [
    {
     "data": {
      "text/plain": [
       "'By the pricking of my thumbs, something wicked this way comes.'"
      ]
     },
     "execution_count": 16,
     "metadata": {},
     "output_type": "execute_result"
    }
   ],
   "source": [
    "y + \", \" + z"
   ]
  },
  {
   "cell_type": "markdown",
   "id": "f3411011",
   "metadata": {},
   "source": [
    "You can also multiply strings with a number! This works the same way multiplication works, i.e., a short form for a variable's addition to itself."
   ]
  },
  {
   "cell_type": "code",
   "execution_count": 17,
   "id": "2eb46d52",
   "metadata": {},
   "outputs": [
    {
     "data": {
      "text/plain": [
       "'spam!spam!spam!spam!spam!spam!spam!spam!'"
      ]
     },
     "execution_count": 17,
     "metadata": {},
     "output_type": "execute_result"
    }
   ],
   "source": [
    "monty = 'spam!'\n",
    "monty * 8"
   ]
  },
  {
   "cell_type": "markdown",
   "id": "94d3fe10",
   "metadata": {},
   "source": [
    "A `list` is again just that: an ordered collection of data: numbers, strings, dates, other lists etc."
   ]
  },
  {
   "cell_type": "code",
   "execution_count": 18,
   "id": "4409f131",
   "metadata": {},
   "outputs": [
    {
     "name": "stdout",
     "output_type": "stream",
     "text": [
      "['By', 'the', 'Pricking', 'of', 'My', 'Thumbs', 'Something', 'Wicked', 'this', 'Way', 'Comes']\n",
      "['By', 'the', 'Pricking', 'of', 'My', 'Thumbs', 'Something', 'Wicked', 'this', 'Way', 'Comes', 'By', 'the', 'Pricking', 'of', 'My', 'Thumbs', 'Something', 'Wicked', 'this', 'Way', 'Comes']\n"
     ]
    }
   ],
   "source": [
    "macbeth = [\"By\", \"the\", \"Pricking\", \"of\", \"My\", \"Thumbs\"]\n",
    "bradbury = [\"Something\", \"Wicked\", \"this\", \"Way\", \"Comes\"]\n",
    "print(macbeth + bradbury)\n",
    "macbeth = macbeth + bradbury\n",
    "print(macbeth* 2)"
   ]
  },
  {
   "cell_type": "code",
   "execution_count": 19,
   "id": "ef2f3c2f",
   "metadata": {},
   "outputs": [
    {
     "data": {
      "text/plain": [
       "'Wicked'"
      ]
     },
     "execution_count": 19,
     "metadata": {},
     "output_type": "execute_result"
    }
   ],
   "source": [
    "bradbury[1]"
   ]
  },
  {
   "cell_type": "code",
   "execution_count": 20,
   "id": "76d605df",
   "metadata": {},
   "outputs": [
    {
     "name": "stdout",
     "output_type": "stream",
     "text": [
      "['By', 'the', 'Pricking']\n",
      "['By', 'the', 'Pricking']\n",
      "Comes\n",
      "['Something', 'Wicked', 'this', 'Way', 'Comes']\n"
     ]
    }
   ],
   "source": [
    "print(macbeth[0:3])\n",
    "print(macbeth[:3])\n",
    "print(macbeth[-1])\n",
    "print(macbeth[6:])"
   ]
  },
  {
   "cell_type": "code",
   "execution_count": 21,
   "id": "6371cab0",
   "metadata": {},
   "outputs": [
    {
     "name": "stdout",
     "output_type": "stream",
     "text": [
      "List Sum: 21\n",
      "Ascending order: [1, 2, 3, 4, 5, 6]\n",
      "Descending order: [6, 5, 4, 3, 2, 1]\n",
      "Ascending order: ['Comes', 'Something', 'Way', 'Wicked', 'this']\n",
      "Descending order: ['this', 'Wicked', 'Way', 'Something', 'Comes']\n"
     ]
    }
   ],
   "source": [
    "x_list = [2,6,3,5,4,1]\n",
    "print('List Sum:', sum(x_list))\n",
    "print('Ascending order:', sorted(x_list))\n",
    "print('Descending order:', sorted(x_list, reverse=True))\n",
    "\n",
    "print('Ascending order:', sorted(bradbury))\n",
    "print('Descending order:', sorted(bradbury, reverse=True))"
   ]
  },
  {
   "cell_type": "code",
   "execution_count": 22,
   "id": "9f9bc297",
   "metadata": {},
   "outputs": [
    {
     "name": "stdout",
     "output_type": "stream",
     "text": [
      "['something', 'wicked', 'this', 'way', 'comes.']\n",
      "['s', 'o', 'm', 'e', 't', 'h', 'i', 'n', 'g', ' ', 'w', 'i', 'c', 'k', 'e', 'd', ' ', 't', 'h', 'i', 's', ' ', 'w', 'a', 'y', ' ', 'c', 'o', 'm', 'e', 's', '.']\n"
     ]
    }
   ],
   "source": [
    "z_list = z.split()\n",
    "print(z_list)\n",
    "z_char_list = list(z)\n",
    "print(z_char_list)"
   ]
  },
  {
   "cell_type": "markdown",
   "id": "3d74953c",
   "metadata": {},
   "source": [
    "### IMPORTANT:\n",
    "Python will let you use any alphanumeric characters as variable names, including 'reserved names' (commands like `print`, `for`, or typenames like `int`, `str`, and`list`), but avoid using the latter because it will create complications for you. \n",
    "\n",
    "Instead, use variable names that are meaningful to the context in which you are using them, like `reviews_list` (for a list of strings where each string is a review of a product), or `rating` which stores a number representing a rating for a product, etc."
   ]
  },
  {
   "cell_type": "markdown",
   "id": "c22cff3e",
   "metadata": {},
   "source": [
    "## 4. Conditional Statements and Loops\n",
    "Often you need to check things before performing operations.\n",
    "\n",
    "Anything that returns a `True` or a `False` (these are called logical statements in programming) can be used to perform checks.\n",
    "Here are a few examples of logical statements.\n"
   ]
  },
  {
   "cell_type": "code",
   "execution_count": 23,
   "id": "8c9fcbe6-e810-4fa5-b447-0cacf3496b88",
   "metadata": {},
   "outputs": [
    {
     "data": {
      "text/plain": [
       "True"
      ]
     },
     "execution_count": 23,
     "metadata": {},
     "output_type": "execute_result"
    }
   ],
   "source": [
    "1 < 2"
   ]
  },
  {
   "cell_type": "code",
   "execution_count": 24,
   "id": "8a29972a-6710-4b08-a5bb-3a3a894106e8",
   "metadata": {},
   "outputs": [
    {
     "data": {
      "text/plain": [
       "False"
      ]
     },
     "execution_count": 24,
     "metadata": {},
     "output_type": "execute_result"
    }
   ],
   "source": [
    "\"apples\" == \"oranges\""
   ]
  },
  {
   "cell_type": "code",
   "execution_count": 25,
   "id": "8c86b986-c1df-47e3-b9d5-a94ba3766f68",
   "metadata": {},
   "outputs": [
    {
     "data": {
      "text/plain": [
       "True"
      ]
     },
     "execution_count": 25,
     "metadata": {},
     "output_type": "execute_result"
    }
   ],
   "source": [
    "\"a\" in \"apple\""
   ]
  },
  {
   "cell_type": "code",
   "execution_count": 26,
   "id": "cdd1bf42-2e85-4117-9be1-9874e23c3be3",
   "metadata": {},
   "outputs": [
    {
     "data": {
      "text/plain": [
       "False"
      ]
     },
     "execution_count": 26,
     "metadata": {},
     "output_type": "execute_result"
    }
   ],
   "source": [
    "'the' in bradbury"
   ]
  },
  {
   "cell_type": "code",
   "execution_count": 27,
   "id": "66f79af3",
   "metadata": {},
   "outputs": [
    {
     "name": "stdout",
     "output_type": "stream",
     "text": [
      "Amphibious has no 'e' in it.\n",
      "Amphibious is a long word with 10 characters.\n"
     ]
    }
   ],
   "source": [
    "word = 'Amphibious'\n",
    "if 'e' in word :\n",
    "    print(word, \"has at least one 'e' in it.\")\n",
    "else :\n",
    "    print(word, \"has no 'e' in it.\")\n",
    "    \n",
    "if len(word) >= 7 :\n",
    "    print(word, \"is a long word with\", len(word), \"characters.\")\n",
    "else :\n",
    "    print(word, \"is a short word.\")"
   ]
  },
  {
   "cell_type": "code",
   "execution_count": 28,
   "id": "8d0a29b4",
   "metadata": {},
   "outputs": [
    {
     "name": "stdout",
     "output_type": "stream",
     "text": [
      "'By' has 2 letters.\n",
      "'the' has 3 letters.\n",
      "'Pricking' has 8 letters.\n",
      "'of' has 2 letters.\n",
      "'My' has 2 letters.\n",
      "'Thumbs' has 6 letters.\n",
      "'Something' has 9 letters.\n",
      "'Wicked' has 6 letters.\n",
      "'this' has 4 letters.\n",
      "'Way' has 3 letters.\n",
      "'Comes' has 5 letters.\n"
     ]
    }
   ],
   "source": [
    "for word in macbeth :\n",
    "    length_of_word = len(word)\n",
    "    print(\"'{}' has {} letters.\".format(word, length_of_word))"
   ]
  },
  {
   "cell_type": "code",
   "execution_count": 29,
   "id": "3fa37fef",
   "metadata": {},
   "outputs": [
    {
     "name": "stdout",
     "output_type": "stream",
     "text": [
      "Words starting with 't' in the given text\n",
      "Word number 1 : the\n",
      "Word number 5 : Thumbs\n",
      "Word number 8 : this\n"
     ]
    }
   ],
   "source": [
    "print(\"Words starting with 't' in the given text\")\n",
    "\n",
    "for index, word in enumerate(macbeth) :\n",
    "    if word.lower().startswith('t') :\n",
    "        print('Word number {} : {}'.format(index, word))"
   ]
  },
  {
   "cell_type": "code",
   "execution_count": 30,
   "id": "38dc242d",
   "metadata": {},
   "outputs": [
    {
     "name": "stdout",
     "output_type": "stream",
     "text": [
      "['the', 'Thumbs', 'this']\n"
     ]
    }
   ],
   "source": [
    "words_starting_t = [word for word in macbeth if word.lower().startswith('t')]\n",
    "print(words_starting_t)"
   ]
  },
  {
   "cell_type": "markdown",
   "id": "7de86bec",
   "metadata": {},
   "source": [
    "## 5. Writing Functions\n",
    "What if you wanted to generalise the above lookup?"
   ]
  },
  {
   "cell_type": "code",
   "execution_count": 31,
   "id": "618deeed",
   "metadata": {},
   "outputs": [],
   "source": [
    "def words_starting_with(letter, list_of_words):\n",
    "    output_list_of_words_and_indices = []\n",
    "    for index, word in enumerate(list_of_words):\n",
    "        if word.lower().startswith(letter):\n",
    "            output_list_of_words_and_indices.append({ 'index' : index, 'word' : word })\n",
    "    return output_list_of_words_and_indices"
   ]
  },
  {
   "cell_type": "code",
   "execution_count": 32,
   "id": "2f9d3264",
   "metadata": {},
   "outputs": [
    {
     "data": {
      "text/plain": [
       "[{'index': 1, 'word': 'the'},\n",
       " {'index': 5, 'word': 'Thumbs'},\n",
       " {'index': 8, 'word': 'this'}]"
      ]
     },
     "execution_count": 32,
     "metadata": {},
     "output_type": "execute_result"
    }
   ],
   "source": [
    "words_starting_with('t', macbeth)"
   ]
  },
  {
   "cell_type": "markdown",
   "id": "f58d4fcd",
   "metadata": {},
   "source": [
    "We will pick up other commands as we go along. Now on to Notebook 2: reading text files!"
   ]
  },
  {
   "cell_type": "code",
   "execution_count": null,
   "id": "2724deaf-0922-484f-8a50-e895c7fcb870",
   "metadata": {},
   "outputs": [],
   "source": []
  }
 ],
 "metadata": {
  "kernelspec": {
   "display_name": "Python 3 (ipykernel)",
   "language": "python",
   "name": "python3"
  },
  "language_info": {
   "codemirror_mode": {
    "name": "ipython",
    "version": 3
   },
   "file_extension": ".py",
   "mimetype": "text/x-python",
   "name": "python",
   "nbconvert_exporter": "python",
   "pygments_lexer": "ipython3",
   "version": "3.12.2"
  }
 },
 "nbformat": 4,
 "nbformat_minor": 5
}
