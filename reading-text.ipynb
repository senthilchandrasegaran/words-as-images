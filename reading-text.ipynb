{
 "cells": [
  {
   "cell_type": "code",
   "execution_count": 5,
   "id": "aac4abcb-a2be-4b38-9c59-096ddfaeafe1",
   "metadata": {},
   "outputs": [],
   "source": [
    "with open('./data/carroll-alice.txt', 'r', encoding='utf-8-sig') as fo :\n",
    "    alice = fo.readlines()"
   ]
  },
  {
   "cell_type": "markdown",
   "id": "81c30533-5b36-4bb3-825a-82ab013a5894",
   "metadata": {},
   "source": [
    "### Stuff to do in case you don't have NLTK\n",
    "Open a terminal window (if on a Mac) or an Anaconda command prompt (CMD.exe from the Anaconda Navigator) and type in the following:\n",
    "```\n",
    "conda install nltk\n",
    "```"
   ]
  },
  {
   "cell_type": "code",
   "execution_count": 38,
   "id": "908be4bc-840e-4451-b6bd-0d1af77c635b",
   "metadata": {},
   "outputs": [],
   "source": [
    "## UNCOMMENT THE LINE BELOW AND RUN IT IF THIS IS THE FIRST TIME YOU ARE RUNNING NLTK\n",
    "\n",
    "# nltk.download('punkt')"
   ]
  },
  {
   "cell_type": "code",
   "execution_count": null,
   "id": "6b8c5ef9-9bd1-4888-8250-4ff096000bda",
   "metadata": {},
   "outputs": [
    {
     "name": "stdout",
     "output_type": "stream",
     "text": [
      "Requirement already satisfied: nltk in /Library/Frameworks/Python.framework/Versions/3.12/lib/python3.12/site-packages (3.8.1)\n",
      "Requirement already satisfied: click in /Library/Frameworks/Python.framework/Versions/3.12/lib/python3.12/site-packages (from nltk) (8.1.7)\n",
      "Requirement already satisfied: joblib in /Library/Frameworks/Python.framework/Versions/3.12/lib/python3.12/site-packages (from nltk) (1.3.2)\n",
      "Requirement already satisfied: regex>=2021.8.3 in /Library/Frameworks/Python.framework/Versions/3.12/lib/python3.12/site-packages (from nltk) (2023.12.25)\n",
      "Requirement already satisfied: tqdm in /Library/Frameworks/Python.framework/Versions/3.12/lib/python3.12/site-packages (from nltk) (4.66.2)\n",
      "\u001b[33mDEPRECATION: textract 1.6.5 has a non-standard dependency specifier extract-msg<=0.29.*. pip 24.1 will enforce this behaviour change. A possible replacement is to upgrade to a newer version of textract or contact the author to suggest that they release a version with a conforming dependency specifiers. Discussion can be found at https://github.com/pypa/pip/issues/12063\u001b[0m\u001b[33m\n",
      "\u001b[0m"
     ]
    }
   ],
   "source": [
    "from nltk.tokenize import word_tokenize"
   ]
  },
  {
   "cell_type": "code",
   "execution_count": 15,
   "id": "155692c5-a0d9-4a6e-a63c-6fa5e9e9bb7d",
   "metadata": {},
   "outputs": [],
   "source": [
    "def split_lines_into_words(text):\n",
    "    list_of_words = []\n",
    "    for line in text :\n",
    "        words = line.split()\n",
    "        list_of_words.append(words)\n",
    "    return list_of_words"
   ]
  },
  {
   "cell_type": "code",
   "execution_count": 16,
   "id": "fed4c589-70d3-40c3-8af0-44c34978c7fb",
   "metadata": {},
   "outputs": [],
   "source": [
    "alice_words_list = split_lines_into_words(alice)"
   ]
  },
  {
   "cell_type": "code",
   "execution_count": 19,
   "id": "09829e8b-ea9f-45f9-addc-84a68d0b5bd3",
   "metadata": {},
   "outputs": [
    {
     "data": {
      "text/plain": [
       "[['Alice’s', 'Adventures', 'in', 'Wonderland'],\n",
       " [],\n",
       " ['by', 'Lewis', 'Carroll'],\n",
       " [],\n",
       " ['THE', 'MILLENNIUM', 'FULCRUM', 'EDITION', '3.0']]"
      ]
     },
     "execution_count": 19,
     "metadata": {},
     "output_type": "execute_result"
    }
   ],
   "source": [
    "alice_words_list[0:5]"
   ]
  },
  {
   "cell_type": "code",
   "execution_count": 39,
   "id": "8ce69719-ed48-4a7e-b693-7f5d1ba4f5eb",
   "metadata": {},
   "outputs": [],
   "source": [
    "# make a list (empty)\n",
    "final_list_of_words = []\n",
    "# instead of adding list items, EXTEND this list with the lists of words\n",
    "for word_list in alice_words_list :\n",
    "    final_list_of_words.extend(word_list)"
   ]
  },
  {
   "cell_type": "code",
   "execution_count": 40,
   "id": "992b89b2-9d50-4506-ba9d-39ccd9b99447",
   "metadata": {},
   "outputs": [],
   "source": [
    "master_list_of_words = list(set(final_list_of_words))"
   ]
  },
  {
   "cell_type": "code",
   "execution_count": 41,
   "id": "8dceabc2-7659-4477-bdca-46876e1f1770",
   "metadata": {},
   "outputs": [
    {
     "data": {
      "text/plain": [
       "5267"
      ]
     },
     "execution_count": 41,
     "metadata": {},
     "output_type": "execute_result"
    }
   ],
   "source": [
    "len(master_list_of_words)"
   ]
  },
  {
   "cell_type": "code",
   "execution_count": 42,
   "id": "aee9722f-a789-4f26-8c5d-7550e9ae5730",
   "metadata": {},
   "outputs": [
    {
     "data": {
      "text/plain": [
       "26524"
      ]
     },
     "execution_count": 42,
     "metadata": {},
     "output_type": "execute_result"
    }
   ],
   "source": [
    "len(final_list_of_words)"
   ]
  },
  {
   "cell_type": "code",
   "execution_count": 43,
   "id": "fac59041-0e5a-4029-8a65-17e70eba5e7a",
   "metadata": {},
   "outputs": [],
   "source": [
    "counts_list = []\n",
    "for word in master_list_of_words :\n",
    "    count = final_list_of_words.count(word)\n",
    "    counts_list.append(count)\n",
    "    "
   ]
  },
  {
   "cell_type": "markdown",
   "id": "205672da-b0f6-4df1-a131-6c5f67d65af5",
   "metadata": {},
   "source": [
    "## Convert computed information into a Table\n",
    "We use Pandas, a data analysis tool for python, to convert the data we have computed into a table (or a `DataFrame` in Pandas parlance)."
   ]
  },
  {
   "cell_type": "code",
   "execution_count": 44,
   "id": "2768af54-3edb-4aca-84ad-f78cf31ccd7c",
   "metadata": {},
   "outputs": [],
   "source": [
    "import pandas as pd"
   ]
  },
  {
   "cell_type": "code",
   "execution_count": 45,
   "id": "7939b4b5-5e48-4d65-9f3b-43afc2e14d35",
   "metadata": {},
   "outputs": [],
   "source": [
    "word_counts_df = pd.DataFrame({ 'word' : master_list_of_words, 'count' : counts_list})"
   ]
  },
  {
   "cell_type": "code",
   "execution_count": 46,
   "id": "2e0d6e17-f649-48a8-94b4-5c86b72f687d",
   "metadata": {},
   "outputs": [
    {
     "data": {
      "text/html": [
       "<div>\n",
       "<style scoped>\n",
       "    .dataframe tbody tr th:only-of-type {\n",
       "        vertical-align: middle;\n",
       "    }\n",
       "\n",
       "    .dataframe tbody tr th {\n",
       "        vertical-align: top;\n",
       "    }\n",
       "\n",
       "    .dataframe thead th {\n",
       "        text-align: right;\n",
       "    }\n",
       "</style>\n",
       "<table border=\"1\" class=\"dataframe\">\n",
       "  <thead>\n",
       "    <tr style=\"text-align: right;\">\n",
       "      <th></th>\n",
       "      <th>word</th>\n",
       "      <th>count</th>\n",
       "    </tr>\n",
       "  </thead>\n",
       "  <tbody>\n",
       "    <tr>\n",
       "      <th>0</th>\n",
       "      <td>Half-past</td>\n",
       "      <td>1</td>\n",
       "    </tr>\n",
       "    <tr>\n",
       "      <th>1</th>\n",
       "      <td>important</td>\n",
       "      <td>3</td>\n",
       "    </tr>\n",
       "    <tr>\n",
       "      <th>2</th>\n",
       "      <td>“Call</td>\n",
       "      <td>4</td>\n",
       "    </tr>\n",
       "    <tr>\n",
       "      <th>3</th>\n",
       "      <td>game,”</td>\n",
       "      <td>1</td>\n",
       "    </tr>\n",
       "    <tr>\n",
       "      <th>4</th>\n",
       "      <td>Soup?</td>\n",
       "      <td>2</td>\n",
       "    </tr>\n",
       "    <tr>\n",
       "      <th>5</th>\n",
       "      <td>Northumbria,</td>\n",
       "      <td>1</td>\n",
       "    </tr>\n",
       "    <tr>\n",
       "      <th>6</th>\n",
       "      <td>“You!”</td>\n",
       "      <td>1</td>\n",
       "    </tr>\n",
       "    <tr>\n",
       "      <th>7</th>\n",
       "      <td>yet.”</td>\n",
       "      <td>2</td>\n",
       "    </tr>\n",
       "    <tr>\n",
       "      <th>8</th>\n",
       "      <td>eyes</td>\n",
       "      <td>18</td>\n",
       "    </tr>\n",
       "    <tr>\n",
       "      <th>9</th>\n",
       "      <td>to—”</td>\n",
       "      <td>1</td>\n",
       "    </tr>\n",
       "  </tbody>\n",
       "</table>\n",
       "</div>"
      ],
      "text/plain": [
       "           word  count\n",
       "0     Half-past      1\n",
       "1     important      3\n",
       "2         “Call      4\n",
       "3        game,”      1\n",
       "4         Soup?      2\n",
       "5  Northumbria,      1\n",
       "6        “You!”      1\n",
       "7         yet.”      2\n",
       "8          eyes     18\n",
       "9          to—”      1"
      ]
     },
     "execution_count": 46,
     "metadata": {},
     "output_type": "execute_result"
    }
   ],
   "source": [
    "word_counts_df[0:10]"
   ]
  },
  {
   "cell_type": "code",
   "execution_count": 47,
   "id": "89241293-5daa-4d61-b152-d9c7409244c9",
   "metadata": {},
   "outputs": [],
   "source": [
    "sorted_word_counts_df = word_counts_df.sort_values(by=['count'], ascending=False)"
   ]
  },
  {
   "cell_type": "code",
   "execution_count": 48,
   "id": "6963a847-9c95-4577-896e-4df51825c961",
   "metadata": {},
   "outputs": [
    {
     "data": {
      "text/html": [
       "<div>\n",
       "<style scoped>\n",
       "    .dataframe tbody tr th:only-of-type {\n",
       "        vertical-align: middle;\n",
       "    }\n",
       "\n",
       "    .dataframe tbody tr th {\n",
       "        vertical-align: top;\n",
       "    }\n",
       "\n",
       "    .dataframe thead th {\n",
       "        text-align: right;\n",
       "    }\n",
       "</style>\n",
       "<table border=\"1\" class=\"dataframe\">\n",
       "  <thead>\n",
       "    <tr style=\"text-align: right;\">\n",
       "      <th></th>\n",
       "      <th>word</th>\n",
       "      <th>count</th>\n",
       "    </tr>\n",
       "  </thead>\n",
       "  <tbody>\n",
       "    <tr>\n",
       "      <th>131</th>\n",
       "      <td>the</td>\n",
       "      <td>1515</td>\n",
       "    </tr>\n",
       "    <tr>\n",
       "      <th>376</th>\n",
       "      <td>and</td>\n",
       "      <td>717</td>\n",
       "    </tr>\n",
       "    <tr>\n",
       "      <th>1980</th>\n",
       "      <td>to</td>\n",
       "      <td>706</td>\n",
       "    </tr>\n",
       "    <tr>\n",
       "      <th>4379</th>\n",
       "      <td>a</td>\n",
       "      <td>611</td>\n",
       "    </tr>\n",
       "    <tr>\n",
       "      <th>132</th>\n",
       "      <td>of</td>\n",
       "      <td>493</td>\n",
       "    </tr>\n",
       "    <tr>\n",
       "      <th>5085</th>\n",
       "      <td>she</td>\n",
       "      <td>485</td>\n",
       "    </tr>\n",
       "    <tr>\n",
       "      <th>681</th>\n",
       "      <td>said</td>\n",
       "      <td>416</td>\n",
       "    </tr>\n",
       "    <tr>\n",
       "      <th>3237</th>\n",
       "      <td>it</td>\n",
       "      <td>347</td>\n",
       "    </tr>\n",
       "    <tr>\n",
       "      <th>1409</th>\n",
       "      <td>in</td>\n",
       "      <td>346</td>\n",
       "    </tr>\n",
       "    <tr>\n",
       "      <th>527</th>\n",
       "      <td>was</td>\n",
       "      <td>327</td>\n",
       "    </tr>\n",
       "  </tbody>\n",
       "</table>\n",
       "</div>"
      ],
      "text/plain": [
       "      word  count\n",
       "131    the   1515\n",
       "376    and    717\n",
       "1980    to    706\n",
       "4379     a    611\n",
       "132     of    493\n",
       "5085   she    485\n",
       "681   said    416\n",
       "3237    it    347\n",
       "1409    in    346\n",
       "527    was    327"
      ]
     },
     "execution_count": 48,
     "metadata": {},
     "output_type": "execute_result"
    }
   ],
   "source": [
    "sorted_word_counts_df[0:10]"
   ]
  },
  {
   "cell_type": "code",
   "execution_count": 49,
   "id": "c1bd9f13-39ea-42d1-a2fa-6c2913d257ee",
   "metadata": {},
   "outputs": [],
   "source": [
    "import seaborn as sns\n",
    "import matplotlib.pyplot as plt"
   ]
  },
  {
   "cell_type": "code",
   "execution_count": 50,
   "id": "7dfb0029-13d6-4518-b1d0-b248750d67f4",
   "metadata": {},
   "outputs": [
    {
     "data": {
      "text/plain": [
       "<Axes: xlabel='count', ylabel='word'>"
      ]
     },
     "execution_count": 50,
     "metadata": {},
     "output_type": "execute_result"
    },
    {
     "data": {
      "image/png": "[encoded data removed]",
      "text/plain": [
       "<Figure size 640x480 with 1 Axes>"
      ]
     },
     "metadata": {},
     "output_type": "display_data"
    }
   ],
   "source": [
    "sns.barplot(data=sorted_word_counts_df[0:20], x='count', y='word')"
   ]
  },
  {
   "cell_type": "code",
   "execution_count": null,
   "id": "a509a3dc-17e9-4a18-84e6-52e315170b9a",
   "metadata": {},
   "outputs": [],
   "source": []
  }
 ],
 "metadata": {
  "kernelspec": {
   "display_name": "Python 3 (ipykernel)",
   "language": "python",
   "name": "python3"
  },
  "language_info": {
   "codemirror_mode": {
    "name": "ipython",
    "version": 3
   },
   "file_extension": ".py",
   "mimetype": "text/x-python",
   "name": "python",
   "nbconvert_exporter": "python",
   "pygments_lexer": "ipython3",
   "version": "3.12.2"
  }
 },
 "nbformat": 4,
 "nbformat_minor": 5
}
